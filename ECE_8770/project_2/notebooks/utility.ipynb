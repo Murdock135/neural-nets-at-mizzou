{
 "cells": [
  {
   "cell_type": "code",
   "execution_count": 1,
   "metadata": {},
   "outputs": [],
   "source": [
    "import os"
   ]
  },
  {
   "cell_type": "code",
   "execution_count": 7,
   "metadata": {},
   "outputs": [
    {
     "name": "stdout",
     "output_type": "stream",
     "text": [
      "└── c:/Users/Zayan/Documents/code/personal_repos/neural_nets/ECE_8770/project_2\n",
      "    ├── experiment_runner.py\n",
      "    ├── configs\n",
      "    │   └── config.py\n",
      "    ├── notebooks\n",
      "    │   ├── create_sequences.ipynb\n",
      "    │   ├── preprocessing.ipynb\n",
      "    │   └── utility.ipynb\n",
      "    └── src\n",
      "        ├── dataset_utils.py\n",
      "        ├── models.py\n",
      "        ├── model_trainer.py\n",
      "        └── utils.py\n"
     ]
    }
   ],
   "source": [
    "import os\n",
    "\n",
    "def build_tree(root_dir):\n",
    "    tree = {}\n",
    "    for dirpath, dirnames, filenames in os.walk(root_dir):\n",
    "        for file in filenames:\n",
    "            if file.endswith(('.py', '.ipynb')):\n",
    "                path = os.path.join(dirpath, file)\n",
    "                parts = path.split(os.sep)\n",
    "                node = tree\n",
    "                for part in parts:\n",
    "                    if part not in node:\n",
    "                        node[part] = {}\n",
    "                    node = node[part]\n",
    "    return tree\n",
    "\n",
    "def print_tree(node, prefix=\"\"):\n",
    "    if not node:  # if the node is empty, it's a file\n",
    "        return\n",
    "    children = list(node.keys())\n",
    "    for i, child in enumerate(children):\n",
    "        connector = '└── ' if i == len(children) - 1 else '├── '\n",
    "        print(prefix + connector + child)\n",
    "        if node[child]:  # if the sub-node is not empty, recurse\n",
    "            extension = \"    \" if i == len(children) - 1 else \"│   \"\n",
    "            print_tree(node[child], prefix + extension)\n",
    "\n",
    "# Specify the root directory you want to scan\n",
    "root_directory = \"c:/Users/Zayan/Documents/code/personal_repos/neural_nets/ECE_8770/project_2\"\n",
    "tree = build_tree(root_directory)\n",
    "print_tree(tree)\n"
   ]
  },
  {
   "cell_type": "code",
   "execution_count": 6,
   "metadata": {},
   "outputs": [
    {
     "name": "stdout",
     "output_type": "stream",
     "text": [
      "{'c:/Users/Zayan/Documents/code/personal_repos/neural_nets/ECE_8770/project_2': {'experiment_runner.py': {}, 'configs': {'config.py': {}}, 'notebooks': {'create_sequences.ipynb': {}, 'preprocessing.ipynb': {}, 'utility.ipynb': {}}, 'src': {'dataset_utils.py': {}, 'models.py': {}, 'model_trainer.py': {}, 'utils.py': {}}}}\n"
     ]
    }
   ],
   "source": [
    "def markdown_tree(node, prefix=\"\", result=[]):\n",
    "    if not node:  # if the node is empty, it's a file\n",
    "        return\n",
    "    children = list(node.keys())\n",
    "    for i, child in enumerate(children):\n",
    "        result.append(prefix + '* ' + child)\n",
    "        if node[child]:  # if the sub-node is not empty, recurse\n",
    "            extension = \"    \"\n",
    "            markdown_tree(node[child], prefix + extension, result)\n",
    "    return result\n",
    "\n",
    "def write_to_markdown(tree, output_file):\n",
    "    markdown_content = markdown_tree(tree)\n",
    "    with open(output_file, 'w') as file:\n",
    "        file.write(\"\\n\".join(markdown_content))\n",
    "\n",
    "# Example usage:\n",
    "tree = build_tree(root_directory)\n",
    "print(tree)\n",
    "\n",
    "# write_to_markdown(tree, 'output.md')\n"
   ]
  }
 ],
 "metadata": {
  "kernelspec": {
   "display_name": "nn",
   "language": "python",
   "name": "python3"
  },
  "language_info": {
   "codemirror_mode": {
    "name": "ipython",
    "version": 3
   },
   "file_extension": ".py",
   "mimetype": "text/x-python",
   "name": "python",
   "nbconvert_exporter": "python",
   "pygments_lexer": "ipython3",
   "version": "3.11.5"
  }
 },
 "nbformat": 4,
 "nbformat_minor": 2
}
