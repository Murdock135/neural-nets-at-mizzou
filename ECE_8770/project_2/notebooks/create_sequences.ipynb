{
 "cells": [
  {
   "cell_type": "code",
   "execution_count": 2,
   "metadata": {},
   "outputs": [],
   "source": [
    "import pandas as pd\n",
    "import numpy as np\n",
    "from sklearn.model_selection import train_test_split"
   ]
  },
  {
   "cell_type": "code",
   "execution_count": 3,
   "metadata": {},
   "outputs": [],
   "source": [
    "def shift_df(df, sequence_length):\n",
    "    df2 = df.copy()\n",
    "    try:\n",
    "        df2['InvoiceDate'] = pd.to_datetime(df2['InvoiceDate'])\n",
    "        df2.set_index('InvoiceDate')\n",
    "    except:\n",
    "        print(\"Cannot set 'InvoiceDate' as index\")\n",
    "    \n",
    "    # create shifted columns\n",
    "    for f in df2.columns:\n",
    "        for i in range(1, sequence_length+1):\n",
    "            df2[f'{f}(t-{i})'] = df2[f].shift(i)\n",
    "\n",
    "\n",
    "    # drop NaN rows\n",
    "    df2.dropna(inplace=True)\n",
    "\n",
    "    return df2\n",
    "\n",
    "def create_sequences(df, sequence_length, prediction_window = 1):\n",
    "    \"\"\"\n",
    "    Generates input and target sequences from a DataFrame to prepare data for training RNN models.\n",
    "    \n",
    "    This function creates overlapping sequences of a specified length from a DataFrame,\n",
    "    where each sequence is used as input for RNN predictions. The targets are determined\n",
    "    by the prediction_window, allowing for both many-to-one and many-to-many predictions.\n",
    "\n",
    "    Parameters:\n",
    "    df (pd.DataFrame): DataFrame containing sequential data. Each row is expected to be \n",
    "                       a time step in the sequence.\n",
    "    sequence_length (int): The number of time steps in each input sequence.\n",
    "    prediction_window (int, optional): The number of future time steps to predict. A value of\n",
    "                                       1 indicates a many-to-one prediction, while a value greater\n",
    "                                       than 1 indicates a many-to-many prediction.\n",
    "\n",
    "    Returns:\n",
    "    np.ndarray: An array of input sequences.\n",
    "    np.ndarray: An array of targets corresponding to the sequences. Targets can be a single\n",
    "                time step or a sequence of time steps, depending on the prediction_window.\n",
    "    \"\"\"\n",
    "    \n",
    "    sequences = []\n",
    "    targets = []\n",
    "    data = df.values\n",
    "\n",
    "    for i in range(len(data) - sequence_length):\n",
    "        # create input sequence\n",
    "        sequence = data[i:(i + sequence_length)]\n",
    "\n",
    "        # make the last time step the target (many to one)\n",
    "        target = data[i+sequence_length : + i+sequence_length+prediction_window]\n",
    "\n",
    "        # store sequence and target\n",
    "        sequences.append(sequence)\n",
    "        targets.append(target)\n",
    "\n",
    "    return np.array(sequences), np.array(targets)"
   ]
  },
  {
   "cell_type": "code",
   "execution_count": 4,
   "metadata": {},
   "outputs": [],
   "source": [
    "data_path = \"c:/Users/Zayan/Documents/code/personal_repos/neural_nets/ECE_8770/project_2/data/online+retail/quantity_per_time_data.csv\"\n",
    "df = pd.read_csv(data_path)"
   ]
  },
  {
   "cell_type": "code",
   "execution_count": 5,
   "metadata": {},
   "outputs": [
    {
     "data": {
      "text/plain": [
       "(23260, 1)"
      ]
     },
     "execution_count": 5,
     "metadata": {},
     "output_type": "execute_result"
    }
   ],
   "source": [
    "df.shape"
   ]
  },
  {
   "cell_type": "code",
   "execution_count": 6,
   "metadata": {},
   "outputs": [
    {
     "data": {
      "text/plain": [
       "23260"
      ]
     },
     "execution_count": 6,
     "metadata": {},
     "output_type": "execute_result"
    }
   ],
   "source": [
    "len(df)"
   ]
  },
  {
   "cell_type": "code",
   "execution_count": 7,
   "metadata": {},
   "outputs": [
    {
     "data": {
      "text/html": [
       "<div>\n",
       "<style scoped>\n",
       "    .dataframe tbody tr th:only-of-type {\n",
       "        vertical-align: middle;\n",
       "    }\n",
       "\n",
       "    .dataframe tbody tr th {\n",
       "        vertical-align: top;\n",
       "    }\n",
       "\n",
       "    .dataframe thead th {\n",
       "        text-align: right;\n",
       "    }\n",
       "</style>\n",
       "<table border=\"1\" class=\"dataframe\">\n",
       "  <thead>\n",
       "    <tr style=\"text-align: right;\">\n",
       "      <th></th>\n",
       "      <th>Quantity</th>\n",
       "    </tr>\n",
       "  </thead>\n",
       "  <tbody>\n",
       "    <tr>\n",
       "      <th>0</th>\n",
       "      <td>40</td>\n",
       "    </tr>\n",
       "    <tr>\n",
       "      <th>1</th>\n",
       "      <td>12</td>\n",
       "    </tr>\n",
       "    <tr>\n",
       "      <th>2</th>\n",
       "      <td>98</td>\n",
       "    </tr>\n",
       "    <tr>\n",
       "      <th>3</th>\n",
       "      <td>3</td>\n",
       "    </tr>\n",
       "    <tr>\n",
       "      <th>4</th>\n",
       "      <td>449</td>\n",
       "    </tr>\n",
       "  </tbody>\n",
       "</table>\n",
       "</div>"
      ],
      "text/plain": [
       "   Quantity\n",
       "0        40\n",
       "1        12\n",
       "2        98\n",
       "3         3\n",
       "4       449"
      ]
     },
     "execution_count": 7,
     "metadata": {},
     "output_type": "execute_result"
    }
   ],
   "source": [
    "df.head()"
   ]
  },
  {
   "cell_type": "code",
   "execution_count": 8,
   "metadata": {},
   "outputs": [
    {
     "data": {
      "text/plain": [
       "<Axes: >"
      ]
     },
     "execution_count": 8,
     "metadata": {},
     "output_type": "execute_result"
    },
    {
     "data": {
      "image/png": "[encoded data removed]",
      "text/plain": [
       "<Figure size 640x480 with 1 Axes>"
      ]
     },
     "metadata": {},
     "output_type": "display_data"
    }
   ],
   "source": [
    "df.plot()"
   ]
  },
  {
   "cell_type": "code",
   "execution_count": 9,
   "metadata": {},
   "outputs": [],
   "source": [
    "sequences, targets = create_sequences(df, 7)"
   ]
  },
  {
   "cell_type": "code",
   "execution_count": 11,
   "metadata": {},
   "outputs": [
    {
     "data": {
      "text/plain": [
       "(23253, 7, 1)"
      ]
     },
     "execution_count": 11,
     "metadata": {},
     "output_type": "execute_result"
    }
   ],
   "source": [
    "sequences.shape"
   ]
  },
  {
   "cell_type": "code",
   "execution_count": 13,
   "metadata": {},
   "outputs": [
    {
     "data": {
      "text/plain": [
       "(23253, 1, 1)"
      ]
     },
     "execution_count": 13,
     "metadata": {},
     "output_type": "execute_result"
    }
   ],
   "source": [
    "targets.shape"
   ]
  }
 ],
 "metadata": {
  "kernelspec": {
   "display_name": "nn",
   "language": "python",
   "name": "python3"
  },
  "language_info": {
   "codemirror_mode": {
    "name": "ipython",
    "version": 3
   },
   "file_extension": ".py",
   "mimetype": "text/x-python",
   "name": "python",
   "nbconvert_exporter": "python",
   "pygments_lexer": "ipython3",
   "version": "3.11.5"
  }
 },
 "nbformat": 4,
 "nbformat_minor": 2
}
