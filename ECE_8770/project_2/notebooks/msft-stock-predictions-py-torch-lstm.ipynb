{
 "cells": [
  {
   "cell_type": "code",
   "execution_count": 1,
   "id": "599fde13",
   "metadata": {
    "_cell_guid": "b1076dfc-b9ad-4769-8c92-a6c4dae69d19",
    "_uuid": "8f2839f25d086af736a60e9eeb907d3b93b6e0e5",
    "execution": {
     "iopub.execute_input": "2024-03-05T13:50:02.734682Z",
     "iopub.status.busy": "2024-03-05T13:50:02.733743Z",
     "iopub.status.idle": "2024-03-05T13:50:03.877120Z",
     "shell.execute_reply": "2024-03-05T13:50:03.875933Z"
    },
    "papermill": {
     "duration": 1.161887,
     "end_time": "2024-03-05T13:50:03.880171",
     "exception": false,
     "start_time": "2024-03-05T13:50:02.718284",
     "status": "completed"
    },
    "tags": []
   },
   "outputs": [],
   "source": [
    "# This Python 3 environment comes with many helpful analytics libraries installed\n",
    "# It is defined by the kaggle/python Docker image: https://github.com/kaggle/docker-python\n",
    "# For example, here's several helpful packages to load\n",
    "\n",
    "import numpy as np # linear algebra\n",
    "import pandas as pd # data processing, CSV file I/O (e.g. pd.read_csv)\n",
    "from sklearn.preprocessing import MinMaxScaler\n",
    "\n",
    "# Input data files are available in the read-only \"../input/\" directory\n",
    "# For example, running this (by clicking run or pressing Shift+Enter) will list all files under the input directory\n",
    "\n",
    "# import os\n",
    "# for dirname, _, filenames in os.walk('/kaggle/input'):\n",
    "#     for filename in filenames:\n",
    "#         print(os.path.join(dirname, filename))\n",
    "\n",
    "# You can write up to 20GB to the current directory (/kaggle/working/) that gets preserved as output when you create a version using \"Save & Run All\" \n",
    "# You can also write temporary files to /kaggle/temp/, but they won't be saved outside of the current session"
   ]
  },
  {
   "cell_type": "code",
   "execution_count": 11,
   "id": "34806d7a",
   "metadata": {
    "execution": {
     "iopub.execute_input": "2024-03-05T13:50:03.908420Z",
     "iopub.status.busy": "2024-03-05T13:50:03.907262Z",
     "iopub.status.idle": "2024-03-05T13:50:06.240978Z",
     "shell.execute_reply": "2024-03-05T13:50:06.239497Z"
    },
    "papermill": {
     "duration": 2.351445,
     "end_time": "2024-03-05T13:50:06.244586",
     "exception": false,
     "start_time": "2024-03-05T13:50:03.893141",
     "status": "completed"
    },
    "tags": []
   },
   "outputs": [],
   "source": [
    "import warnings\n",
    "warnings = 'ignore'\n",
    "import matplotlib.pyplot as plt\n",
    "import seaborn as sns\n",
    "color_pal = sns.color_palette()\n",
    "sns.set(rc={'figure.figsize':(16,8)})\n",
    "sns.set(font_scale=1.3)\n",
    "plt.style.use('fivethirtyeight')\n",
    "\n",
    "from sklearn.metrics import mean_squared_error\n",
    "\n",
    "# from xgboost import XGBRegressor as xbr"
   ]
  },
  {
   "cell_type": "code",
   "execution_count": 2,
   "id": "7e3e93f4",
   "metadata": {
    "execution": {
     "iopub.execute_input": "2024-03-05T13:50:06.274665Z",
     "iopub.status.busy": "2024-03-05T13:50:06.273714Z",
     "iopub.status.idle": "2024-03-05T13:50:06.339059Z",
     "shell.execute_reply": "2024-03-05T13:50:06.337713Z"
    },
    "papermill": {
     "duration": 0.084844,
     "end_time": "2024-03-05T13:50:06.342789",
     "exception": false,
     "start_time": "2024-03-05T13:50:06.257945",
     "status": "completed"
    },
    "tags": []
   },
   "outputs": [
    {
     "data": {
      "text/html": [
       "<div>\n",
       "<style scoped>\n",
       "    .dataframe tbody tr th:only-of-type {\n",
       "        vertical-align: middle;\n",
       "    }\n",
       "\n",
       "    .dataframe tbody tr th {\n",
       "        vertical-align: top;\n",
       "    }\n",
       "\n",
       "    .dataframe thead th {\n",
       "        text-align: right;\n",
       "    }\n",
       "</style>\n",
       "<table border=\"1\" class=\"dataframe\">\n",
       "  <thead>\n",
       "    <tr style=\"text-align: right;\">\n",
       "      <th></th>\n",
       "      <th>Date</th>\n",
       "      <th>Open</th>\n",
       "      <th>High</th>\n",
       "      <th>Low</th>\n",
       "      <th>Close</th>\n",
       "      <th>Volume</th>\n",
       "    </tr>\n",
       "  </thead>\n",
       "  <tbody>\n",
       "    <tr>\n",
       "      <th>0</th>\n",
       "      <td>4/1/2015 16:00:00</td>\n",
       "      <td>40.60</td>\n",
       "      <td>40.76</td>\n",
       "      <td>40.31</td>\n",
       "      <td>40.72</td>\n",
       "      <td>36865322</td>\n",
       "    </tr>\n",
       "    <tr>\n",
       "      <th>1</th>\n",
       "      <td>4/2/2015 16:00:00</td>\n",
       "      <td>40.66</td>\n",
       "      <td>40.74</td>\n",
       "      <td>40.12</td>\n",
       "      <td>40.29</td>\n",
       "      <td>37487476</td>\n",
       "    </tr>\n",
       "    <tr>\n",
       "      <th>2</th>\n",
       "      <td>4/6/2015 16:00:00</td>\n",
       "      <td>40.34</td>\n",
       "      <td>41.78</td>\n",
       "      <td>40.18</td>\n",
       "      <td>41.55</td>\n",
       "      <td>39223692</td>\n",
       "    </tr>\n",
       "    <tr>\n",
       "      <th>3</th>\n",
       "      <td>4/7/2015 16:00:00</td>\n",
       "      <td>41.61</td>\n",
       "      <td>41.91</td>\n",
       "      <td>41.31</td>\n",
       "      <td>41.53</td>\n",
       "      <td>28809375</td>\n",
       "    </tr>\n",
       "    <tr>\n",
       "      <th>4</th>\n",
       "      <td>4/8/2015 16:00:00</td>\n",
       "      <td>41.48</td>\n",
       "      <td>41.69</td>\n",
       "      <td>41.04</td>\n",
       "      <td>41.42</td>\n",
       "      <td>24753438</td>\n",
       "    </tr>\n",
       "    <tr>\n",
       "      <th>...</th>\n",
       "      <td>...</td>\n",
       "      <td>...</td>\n",
       "      <td>...</td>\n",
       "      <td>...</td>\n",
       "      <td>...</td>\n",
       "      <td>...</td>\n",
       "    </tr>\n",
       "    <tr>\n",
       "      <th>1506</th>\n",
       "      <td>3/25/2021 16:00:00</td>\n",
       "      <td>235.30</td>\n",
       "      <td>236.94</td>\n",
       "      <td>231.57</td>\n",
       "      <td>232.34</td>\n",
       "      <td>34061853</td>\n",
       "    </tr>\n",
       "    <tr>\n",
       "      <th>1507</th>\n",
       "      <td>3/26/2021 16:00:00</td>\n",
       "      <td>231.55</td>\n",
       "      <td>236.71</td>\n",
       "      <td>231.55</td>\n",
       "      <td>236.48</td>\n",
       "      <td>25479853</td>\n",
       "    </tr>\n",
       "    <tr>\n",
       "      <th>1508</th>\n",
       "      <td>3/29/2021 16:00:00</td>\n",
       "      <td>236.59</td>\n",
       "      <td>236.80</td>\n",
       "      <td>231.88</td>\n",
       "      <td>235.24</td>\n",
       "      <td>25227455</td>\n",
       "    </tr>\n",
       "    <tr>\n",
       "      <th>1509</th>\n",
       "      <td>3/30/2021 16:00:00</td>\n",
       "      <td>233.53</td>\n",
       "      <td>233.85</td>\n",
       "      <td>231.10</td>\n",
       "      <td>231.85</td>\n",
       "      <td>24792012</td>\n",
       "    </tr>\n",
       "    <tr>\n",
       "      <th>1510</th>\n",
       "      <td>3/31/2021 16:00:00</td>\n",
       "      <td>232.91</td>\n",
       "      <td>239.10</td>\n",
       "      <td>232.39</td>\n",
       "      <td>235.77</td>\n",
       "      <td>43623471</td>\n",
       "    </tr>\n",
       "  </tbody>\n",
       "</table>\n",
       "<p>1511 rows × 6 columns</p>\n",
       "</div>"
      ],
      "text/plain": [
       "                    Date    Open    High     Low   Close    Volume\n",
       "0      4/1/2015 16:00:00   40.60   40.76   40.31   40.72  36865322\n",
       "1      4/2/2015 16:00:00   40.66   40.74   40.12   40.29  37487476\n",
       "2      4/6/2015 16:00:00   40.34   41.78   40.18   41.55  39223692\n",
       "3      4/7/2015 16:00:00   41.61   41.91   41.31   41.53  28809375\n",
       "4      4/8/2015 16:00:00   41.48   41.69   41.04   41.42  24753438\n",
       "...                  ...     ...     ...     ...     ...       ...\n",
       "1506  3/25/2021 16:00:00  235.30  236.94  231.57  232.34  34061853\n",
       "1507  3/26/2021 16:00:00  231.55  236.71  231.55  236.48  25479853\n",
       "1508  3/29/2021 16:00:00  236.59  236.80  231.88  235.24  25227455\n",
       "1509  3/30/2021 16:00:00  233.53  233.85  231.10  231.85  24792012\n",
       "1510  3/31/2021 16:00:00  232.91  239.10  232.39  235.77  43623471\n",
       "\n",
       "[1511 rows x 6 columns]"
      ]
     },
     "execution_count": 2,
     "metadata": {},
     "output_type": "execute_result"
    }
   ],
   "source": [
    "df = pd.read_csv(\"c:/Users/Zayan/Documents/code/personal_repos/neural_nets/ECE_8770/project_2/data/Microsoft_Stock.csv\")\n",
    "\n",
    "df"
   ]
  },
  {
   "cell_type": "code",
   "execution_count": 3,
   "id": "c78caf3b",
   "metadata": {
    "execution": {
     "iopub.execute_input": "2024-03-05T13:50:06.371533Z",
     "iopub.status.busy": "2024-03-05T13:50:06.370652Z",
     "iopub.status.idle": "2024-03-05T13:50:06.380362Z",
     "shell.execute_reply": "2024-03-05T13:50:06.378858Z"
    },
    "papermill": {
     "duration": 0.027365,
     "end_time": "2024-03-05T13:50:06.383467",
     "exception": false,
     "start_time": "2024-03-05T13:50:06.356102",
     "status": "completed"
    },
    "tags": []
   },
   "outputs": [],
   "source": [
    "df = df[['Date','Close']]"
   ]
  },
  {
   "cell_type": "code",
   "execution_count": 4,
   "id": "99e94337",
   "metadata": {
    "execution": {
     "iopub.execute_input": "2024-03-05T13:50:06.411297Z",
     "iopub.status.busy": "2024-03-05T13:50:06.410884Z",
     "iopub.status.idle": "2024-03-05T13:50:06.423815Z",
     "shell.execute_reply": "2024-03-05T13:50:06.422446Z"
    },
    "papermill": {
     "duration": 0.029975,
     "end_time": "2024-03-05T13:50:06.426591",
     "exception": false,
     "start_time": "2024-03-05T13:50:06.396616",
     "status": "completed"
    },
    "tags": []
   },
   "outputs": [
    {
     "data": {
      "text/html": [
       "<div>\n",
       "<style scoped>\n",
       "    .dataframe tbody tr th:only-of-type {\n",
       "        vertical-align: middle;\n",
       "    }\n",
       "\n",
       "    .dataframe tbody tr th {\n",
       "        vertical-align: top;\n",
       "    }\n",
       "\n",
       "    .dataframe thead th {\n",
       "        text-align: right;\n",
       "    }\n",
       "</style>\n",
       "<table border=\"1\" class=\"dataframe\">\n",
       "  <thead>\n",
       "    <tr style=\"text-align: right;\">\n",
       "      <th></th>\n",
       "      <th>Date</th>\n",
       "      <th>Close</th>\n",
       "    </tr>\n",
       "  </thead>\n",
       "  <tbody>\n",
       "    <tr>\n",
       "      <th>0</th>\n",
       "      <td>4/1/2015 16:00:00</td>\n",
       "      <td>40.72</td>\n",
       "    </tr>\n",
       "    <tr>\n",
       "      <th>1</th>\n",
       "      <td>4/2/2015 16:00:00</td>\n",
       "      <td>40.29</td>\n",
       "    </tr>\n",
       "    <tr>\n",
       "      <th>2</th>\n",
       "      <td>4/6/2015 16:00:00</td>\n",
       "      <td>41.55</td>\n",
       "    </tr>\n",
       "    <tr>\n",
       "      <th>3</th>\n",
       "      <td>4/7/2015 16:00:00</td>\n",
       "      <td>41.53</td>\n",
       "    </tr>\n",
       "    <tr>\n",
       "      <th>4</th>\n",
       "      <td>4/8/2015 16:00:00</td>\n",
       "      <td>41.42</td>\n",
       "    </tr>\n",
       "  </tbody>\n",
       "</table>\n",
       "</div>"
      ],
      "text/plain": [
       "                Date  Close\n",
       "0  4/1/2015 16:00:00  40.72\n",
       "1  4/2/2015 16:00:00  40.29\n",
       "2  4/6/2015 16:00:00  41.55\n",
       "3  4/7/2015 16:00:00  41.53\n",
       "4  4/8/2015 16:00:00  41.42"
      ]
     },
     "execution_count": 4,
     "metadata": {},
     "output_type": "execute_result"
    }
   ],
   "source": [
    "df.head()"
   ]
  },
  {
   "cell_type": "markdown",
   "id": "0265c30e",
   "metadata": {
    "papermill": {
     "duration": 0.012732,
     "end_time": "2024-03-05T13:50:06.452706",
     "exception": false,
     "start_time": "2024-03-05T13:50:06.439974",
     "status": "completed"
    },
    "tags": []
   },
   "source": [
    "# Coverting into DateTime"
   ]
  },
  {
   "cell_type": "code",
   "execution_count": 5,
   "id": "d7754680",
   "metadata": {
    "execution": {
     "iopub.execute_input": "2024-03-05T13:50:06.481727Z",
     "iopub.status.busy": "2024-03-05T13:50:06.481225Z",
     "iopub.status.idle": "2024-03-05T13:50:06.489577Z",
     "shell.execute_reply": "2024-03-05T13:50:06.487873Z"
    },
    "papermill": {
     "duration": 0.025299,
     "end_time": "2024-03-05T13:50:06.492127",
     "exception": false,
     "start_time": "2024-03-05T13:50:06.466828",
     "status": "completed"
    },
    "tags": []
   },
   "outputs": [],
   "source": [
    "import datetime\n",
    "\n",
    "def obj_date (s):\n",
    "    \n",
    "    date_part, time_part = s.split(\" \")\n",
    "    split = date_part.split('/')\n",
    "    month, day, year = int(split[0]), int(split[1]), int(split[2])\n",
    "    \n",
    "    return datetime.datetime(month = month, day = day, year = year)\n",
    "    \n",
    "    "
   ]
  },
  {
   "cell_type": "code",
   "execution_count": 6,
   "id": "9cf4ae72",
   "metadata": {
    "execution": {
     "iopub.execute_input": "2024-03-05T13:50:06.519838Z",
     "iopub.status.busy": "2024-03-05T13:50:06.519358Z",
     "iopub.status.idle": "2024-03-05T13:50:06.526862Z",
     "shell.execute_reply": "2024-03-05T13:50:06.525662Z"
    },
    "papermill": {
     "duration": 0.024892,
     "end_time": "2024-03-05T13:50:06.529800",
     "exception": false,
     "start_time": "2024-03-05T13:50:06.504908",
     "status": "completed"
    },
    "tags": []
   },
   "outputs": [
    {
     "data": {
      "text/plain": [
       "datetime.datetime(2015, 4, 1, 0, 0)"
      ]
     },
     "execution_count": 6,
     "metadata": {},
     "output_type": "execute_result"
    }
   ],
   "source": [
    "example_date = obj_date('4/1/2015 16:00:00')\n",
    "\n",
    "example_date"
   ]
  },
  {
   "cell_type": "code",
   "execution_count": 7,
   "id": "74d11660",
   "metadata": {
    "execution": {
     "iopub.execute_input": "2024-03-05T13:50:06.559546Z",
     "iopub.status.busy": "2024-03-05T13:50:06.558732Z",
     "iopub.status.idle": "2024-03-05T13:50:06.575809Z",
     "shell.execute_reply": "2024-03-05T13:50:06.573759Z"
    },
    "papermill": {
     "duration": 0.035661,
     "end_time": "2024-03-05T13:50:06.578686",
     "exception": false,
     "start_time": "2024-03-05T13:50:06.543025",
     "status": "completed"
    },
    "tags": []
   },
   "outputs": [
    {
     "name": "stderr",
     "output_type": "stream",
     "text": [
      "C:\\Users\\Zayan\\AppData\\Local\\Temp\\ipykernel_36756\\3910606820.py:1: SettingWithCopyWarning: \n",
      "A value is trying to be set on a copy of a slice from a DataFrame.\n",
      "Try using .loc[row_indexer,col_indexer] = value instead\n",
      "\n",
      "See the caveats in the documentation: https://pandas.pydata.org/pandas-docs/stable/user_guide/indexing.html#returning-a-view-versus-a-copy\n",
      "  df['Date'] = df['Date'].apply(obj_date)\n"
     ]
    }
   ],
   "source": [
    "df['Date'] = df['Date'].apply(obj_date)"
   ]
  },
  {
   "cell_type": "code",
   "execution_count": 8,
   "id": "1bb17097",
   "metadata": {
    "execution": {
     "iopub.execute_input": "2024-03-05T13:50:06.607745Z",
     "iopub.status.busy": "2024-03-05T13:50:06.606688Z",
     "iopub.status.idle": "2024-03-05T13:50:06.615029Z",
     "shell.execute_reply": "2024-03-05T13:50:06.613758Z"
    },
    "papermill": {
     "duration": 0.025971,
     "end_time": "2024-03-05T13:50:06.617891",
     "exception": false,
     "start_time": "2024-03-05T13:50:06.591920",
     "status": "completed"
    },
    "tags": []
   },
   "outputs": [],
   "source": [
    "df = df.set_index('Date')\n"
   ]
  },
  {
   "cell_type": "code",
   "execution_count": 9,
   "id": "6ce64fb6",
   "metadata": {
    "execution": {
     "iopub.execute_input": "2024-03-05T13:50:06.646389Z",
     "iopub.status.busy": "2024-03-05T13:50:06.645910Z",
     "iopub.status.idle": "2024-03-05T13:50:06.660017Z",
     "shell.execute_reply": "2024-03-05T13:50:06.658712Z"
    },
    "papermill": {
     "duration": 0.031261,
     "end_time": "2024-03-05T13:50:06.662622",
     "exception": false,
     "start_time": "2024-03-05T13:50:06.631361",
     "status": "completed"
    },
    "tags": []
   },
   "outputs": [
    {
     "data": {
      "text/html": [
       "<div>\n",
       "<style scoped>\n",
       "    .dataframe tbody tr th:only-of-type {\n",
       "        vertical-align: middle;\n",
       "    }\n",
       "\n",
       "    .dataframe tbody tr th {\n",
       "        vertical-align: top;\n",
       "    }\n",
       "\n",
       "    .dataframe thead th {\n",
       "        text-align: right;\n",
       "    }\n",
       "</style>\n",
       "<table border=\"1\" class=\"dataframe\">\n",
       "  <thead>\n",
       "    <tr style=\"text-align: right;\">\n",
       "      <th></th>\n",
       "      <th>Close</th>\n",
       "    </tr>\n",
       "    <tr>\n",
       "      <th>Date</th>\n",
       "      <th></th>\n",
       "    </tr>\n",
       "  </thead>\n",
       "  <tbody>\n",
       "    <tr>\n",
       "      <th>2015-04-01</th>\n",
       "      <td>40.72</td>\n",
       "    </tr>\n",
       "    <tr>\n",
       "      <th>2015-04-02</th>\n",
       "      <td>40.29</td>\n",
       "    </tr>\n",
       "    <tr>\n",
       "      <th>2015-04-06</th>\n",
       "      <td>41.55</td>\n",
       "    </tr>\n",
       "    <tr>\n",
       "      <th>2015-04-07</th>\n",
       "      <td>41.53</td>\n",
       "    </tr>\n",
       "    <tr>\n",
       "      <th>2015-04-08</th>\n",
       "      <td>41.42</td>\n",
       "    </tr>\n",
       "    <tr>\n",
       "      <th>2015-04-09</th>\n",
       "      <td>41.48</td>\n",
       "    </tr>\n",
       "    <tr>\n",
       "      <th>2015-04-10</th>\n",
       "      <td>41.72</td>\n",
       "    </tr>\n",
       "    <tr>\n",
       "      <th>2015-04-13</th>\n",
       "      <td>41.76</td>\n",
       "    </tr>\n",
       "    <tr>\n",
       "      <th>2015-04-14</th>\n",
       "      <td>41.65</td>\n",
       "    </tr>\n",
       "    <tr>\n",
       "      <th>2015-04-15</th>\n",
       "      <td>42.26</td>\n",
       "    </tr>\n",
       "    <tr>\n",
       "      <th>2015-04-16</th>\n",
       "      <td>42.16</td>\n",
       "    </tr>\n",
       "    <tr>\n",
       "      <th>2015-04-17</th>\n",
       "      <td>41.62</td>\n",
       "    </tr>\n",
       "    <tr>\n",
       "      <th>2015-04-20</th>\n",
       "      <td>42.91</td>\n",
       "    </tr>\n",
       "    <tr>\n",
       "      <th>2015-04-21</th>\n",
       "      <td>42.64</td>\n",
       "    </tr>\n",
       "    <tr>\n",
       "      <th>2015-04-22</th>\n",
       "      <td>42.99</td>\n",
       "    </tr>\n",
       "    <tr>\n",
       "      <th>2015-04-23</th>\n",
       "      <td>43.34</td>\n",
       "    </tr>\n",
       "    <tr>\n",
       "      <th>2015-04-24</th>\n",
       "      <td>47.87</td>\n",
       "    </tr>\n",
       "    <tr>\n",
       "      <th>2015-04-27</th>\n",
       "      <td>48.03</td>\n",
       "    </tr>\n",
       "    <tr>\n",
       "      <th>2015-04-28</th>\n",
       "      <td>49.16</td>\n",
       "    </tr>\n",
       "    <tr>\n",
       "      <th>2015-04-29</th>\n",
       "      <td>49.06</td>\n",
       "    </tr>\n",
       "    <tr>\n",
       "      <th>2015-04-30</th>\n",
       "      <td>48.64</td>\n",
       "    </tr>\n",
       "    <tr>\n",
       "      <th>2015-05-01</th>\n",
       "      <td>48.66</td>\n",
       "    </tr>\n",
       "  </tbody>\n",
       "</table>\n",
       "</div>"
      ],
      "text/plain": [
       "            Close\n",
       "Date             \n",
       "2015-04-01  40.72\n",
       "2015-04-02  40.29\n",
       "2015-04-06  41.55\n",
       "2015-04-07  41.53\n",
       "2015-04-08  41.42\n",
       "2015-04-09  41.48\n",
       "2015-04-10  41.72\n",
       "2015-04-13  41.76\n",
       "2015-04-14  41.65\n",
       "2015-04-15  42.26\n",
       "2015-04-16  42.16\n",
       "2015-04-17  41.62\n",
       "2015-04-20  42.91\n",
       "2015-04-21  42.64\n",
       "2015-04-22  42.99\n",
       "2015-04-23  43.34\n",
       "2015-04-24  47.87\n",
       "2015-04-27  48.03\n",
       "2015-04-28  49.16\n",
       "2015-04-29  49.06\n",
       "2015-04-30  48.64\n",
       "2015-05-01  48.66"
      ]
     },
     "execution_count": 9,
     "metadata": {},
     "output_type": "execute_result"
    }
   ],
   "source": [
    "df.head(22)"
   ]
  },
  {
   "cell_type": "code",
   "execution_count": 20,
   "id": "967da873",
   "metadata": {},
   "outputs": [
    {
     "data": {
      "text/html": [
       "<div>\n",
       "<style scoped>\n",
       "    .dataframe tbody tr th:only-of-type {\n",
       "        vertical-align: middle;\n",
       "    }\n",
       "\n",
       "    .dataframe tbody tr th {\n",
       "        vertical-align: top;\n",
       "    }\n",
       "\n",
       "    .dataframe thead th {\n",
       "        text-align: right;\n",
       "    }\n",
       "</style>\n",
       "<table border=\"1\" class=\"dataframe\">\n",
       "  <thead>\n",
       "    <tr style=\"text-align: right;\">\n",
       "      <th></th>\n",
       "      <th>Close</th>\n",
       "    </tr>\n",
       "    <tr>\n",
       "      <th>Date</th>\n",
       "      <th></th>\n",
       "    </tr>\n",
       "  </thead>\n",
       "  <tbody>\n",
       "    <tr>\n",
       "      <th>2015-04-01</th>\n",
       "      <td>0.002101</td>\n",
       "    </tr>\n",
       "    <tr>\n",
       "      <th>2015-04-02</th>\n",
       "      <td>0.000000</td>\n",
       "    </tr>\n",
       "    <tr>\n",
       "      <th>2015-04-06</th>\n",
       "      <td>0.006155</td>\n",
       "    </tr>\n",
       "    <tr>\n",
       "      <th>2015-04-07</th>\n",
       "      <td>0.006058</td>\n",
       "    </tr>\n",
       "    <tr>\n",
       "      <th>2015-04-08</th>\n",
       "      <td>0.005520</td>\n",
       "    </tr>\n",
       "    <tr>\n",
       "      <th>...</th>\n",
       "      <td>...</td>\n",
       "    </tr>\n",
       "    <tr>\n",
       "      <th>2021-03-25</th>\n",
       "      <td>0.938202</td>\n",
       "    </tr>\n",
       "    <tr>\n",
       "      <th>2021-03-26</th>\n",
       "      <td>0.958427</td>\n",
       "    </tr>\n",
       "    <tr>\n",
       "      <th>2021-03-29</th>\n",
       "      <td>0.952369</td>\n",
       "    </tr>\n",
       "    <tr>\n",
       "      <th>2021-03-30</th>\n",
       "      <td>0.935809</td>\n",
       "    </tr>\n",
       "    <tr>\n",
       "      <th>2021-03-31</th>\n",
       "      <td>0.954958</td>\n",
       "    </tr>\n",
       "  </tbody>\n",
       "</table>\n",
       "<p>1511 rows × 1 columns</p>\n",
       "</div>"
      ],
      "text/plain": [
       "               Close\n",
       "Date                \n",
       "2015-04-01  0.002101\n",
       "2015-04-02  0.000000\n",
       "2015-04-06  0.006155\n",
       "2015-04-07  0.006058\n",
       "2015-04-08  0.005520\n",
       "...              ...\n",
       "2021-03-25  0.938202\n",
       "2021-03-26  0.958427\n",
       "2021-03-29  0.952369\n",
       "2021-03-30  0.935809\n",
       "2021-03-31  0.954958\n",
       "\n",
       "[1511 rows x 1 columns]"
      ]
     },
     "execution_count": 20,
     "metadata": {},
     "output_type": "execute_result"
    }
   ],
   "source": [
    "scaler = MinMaxScaler()\n",
    "\n",
    "df['Close'] = scaler.fit_transform(df[['Close']])\n",
    "\n",
    "df"
   ]
  },
  {
   "cell_type": "code",
   "execution_count": 21,
   "id": "a4c532de",
   "metadata": {},
   "outputs": [],
   "source": [
    "df.to_csv(\"c:/Users/Zayan/Documents/code/personal_repos/neural_nets/ECE_8770/project_2/data/msft_stock/msft_stock_close.csv\")"
   ]
  },
  {
   "cell_type": "code",
   "execution_count": 18,
   "id": "4627e8d1",
   "metadata": {
    "execution": {
     "iopub.execute_input": "2024-03-05T13:50:06.693360Z",
     "iopub.status.busy": "2024-03-05T13:50:06.692248Z",
     "iopub.status.idle": "2024-03-05T13:50:07.798510Z",
     "shell.execute_reply": "2024-03-05T13:50:07.796260Z"
    },
    "papermill": {
     "duration": 1.127395,
     "end_time": "2024-03-05T13:50:07.803964",
     "exception": false,
     "start_time": "2024-03-05T13:50:06.676569",
     "status": "completed"
    },
    "tags": []
   },
   "outputs": [
    {
     "data": {
      "text/plain": [
       "<Axes: title={'center': 'Stock pattern by Year'}, xlabel='Date'>"
      ]
     },
     "execution_count": 18,
     "metadata": {},
     "output_type": "execute_result"
    },
    {
     "data": {
      "image/png": "[encoded data removed]",
      "text/plain": [
       "<Figure size 1600x800 with 1 Axes>"
      ]
     },
     "metadata": {},
     "output_type": "display_data"
    }
   ],
   "source": [
    "df.plot(title = \"Stock pattern by Year\")\n",
    "# plt.axvline('2018-6-01', color='white', linestyle='--')\n",
    "# plt.axvline('2019-12-01', color='white', linestyle='--')"
   ]
  },
  {
   "cell_type": "markdown",
   "id": "7471a8e3",
   "metadata": {
    "papermill": {
     "duration": 0.015403,
     "end_time": "2024-03-05T13:50:07.835218",
     "exception": false,
     "start_time": "2024-03-05T13:50:07.819815",
     "status": "completed"
    },
    "tags": []
   },
   "source": [
    "# Prepareing Data for LSTM"
   ]
  },
  {
   "cell_type": "code",
   "execution_count": 13,
   "id": "49522e7f",
   "metadata": {
    "execution": {
     "iopub.execute_input": "2024-03-05T13:50:07.867964Z",
     "iopub.status.busy": "2024-03-05T13:50:07.867425Z",
     "iopub.status.idle": "2024-03-05T13:50:07.934118Z",
     "shell.execute_reply": "2024-03-05T13:50:07.932350Z"
    },
    "papermill": {
     "duration": 0.086739,
     "end_time": "2024-03-05T13:50:07.937217",
     "exception": false,
     "start_time": "2024-03-05T13:50:07.850478",
     "status": "completed"
    },
    "tags": []
   },
   "outputs": [
    {
     "data": {
      "text/html": [
       "<div>\n",
       "<style scoped>\n",
       "    .dataframe tbody tr th:only-of-type {\n",
       "        vertical-align: middle;\n",
       "    }\n",
       "\n",
       "    .dataframe tbody tr th {\n",
       "        vertical-align: top;\n",
       "    }\n",
       "\n",
       "    .dataframe thead th {\n",
       "        text-align: right;\n",
       "    }\n",
       "</style>\n",
       "<table border=\"1\" class=\"dataframe\">\n",
       "  <thead>\n",
       "    <tr style=\"text-align: right;\">\n",
       "      <th></th>\n",
       "      <th>Close</th>\n",
       "      <th>close(t-1)</th>\n",
       "      <th>close(t-2)</th>\n",
       "      <th>close(t-3)</th>\n",
       "      <th>close(t-4)</th>\n",
       "      <th>close(t-5)</th>\n",
       "      <th>close(t-6)</th>\n",
       "      <th>close(t-7)</th>\n",
       "      <th>close(t-8)</th>\n",
       "      <th>close(t-9)</th>\n",
       "      <th>...</th>\n",
       "      <th>close(t-11)</th>\n",
       "      <th>close(t-12)</th>\n",
       "      <th>close(t-13)</th>\n",
       "      <th>close(t-14)</th>\n",
       "      <th>close(t-15)</th>\n",
       "      <th>close(t-16)</th>\n",
       "      <th>close(t-17)</th>\n",
       "      <th>close(t-18)</th>\n",
       "      <th>close(t-19)</th>\n",
       "      <th>close(t-20)</th>\n",
       "    </tr>\n",
       "    <tr>\n",
       "      <th>Date</th>\n",
       "      <th></th>\n",
       "      <th></th>\n",
       "      <th></th>\n",
       "      <th></th>\n",
       "      <th></th>\n",
       "      <th></th>\n",
       "      <th></th>\n",
       "      <th></th>\n",
       "      <th></th>\n",
       "      <th></th>\n",
       "      <th></th>\n",
       "      <th></th>\n",
       "      <th></th>\n",
       "      <th></th>\n",
       "      <th></th>\n",
       "      <th></th>\n",
       "      <th></th>\n",
       "      <th></th>\n",
       "      <th></th>\n",
       "      <th></th>\n",
       "      <th></th>\n",
       "    </tr>\n",
       "  </thead>\n",
       "  <tbody>\n",
       "    <tr>\n",
       "      <th>2015-04-30</th>\n",
       "      <td>48.64</td>\n",
       "      <td>49.06</td>\n",
       "      <td>49.16</td>\n",
       "      <td>48.03</td>\n",
       "      <td>47.87</td>\n",
       "      <td>43.34</td>\n",
       "      <td>42.99</td>\n",
       "      <td>42.64</td>\n",
       "      <td>42.91</td>\n",
       "      <td>41.62</td>\n",
       "      <td>...</td>\n",
       "      <td>42.26</td>\n",
       "      <td>41.65</td>\n",
       "      <td>41.76</td>\n",
       "      <td>41.72</td>\n",
       "      <td>41.48</td>\n",
       "      <td>41.42</td>\n",
       "      <td>41.53</td>\n",
       "      <td>41.55</td>\n",
       "      <td>40.29</td>\n",
       "      <td>40.72</td>\n",
       "    </tr>\n",
       "    <tr>\n",
       "      <th>2015-05-01</th>\n",
       "      <td>48.66</td>\n",
       "      <td>48.64</td>\n",
       "      <td>49.06</td>\n",
       "      <td>49.16</td>\n",
       "      <td>48.03</td>\n",
       "      <td>47.87</td>\n",
       "      <td>43.34</td>\n",
       "      <td>42.99</td>\n",
       "      <td>42.64</td>\n",
       "      <td>42.91</td>\n",
       "      <td>...</td>\n",
       "      <td>42.16</td>\n",
       "      <td>42.26</td>\n",
       "      <td>41.65</td>\n",
       "      <td>41.76</td>\n",
       "      <td>41.72</td>\n",
       "      <td>41.48</td>\n",
       "      <td>41.42</td>\n",
       "      <td>41.53</td>\n",
       "      <td>41.55</td>\n",
       "      <td>40.29</td>\n",
       "    </tr>\n",
       "    <tr>\n",
       "      <th>2015-05-04</th>\n",
       "      <td>48.24</td>\n",
       "      <td>48.66</td>\n",
       "      <td>48.64</td>\n",
       "      <td>49.06</td>\n",
       "      <td>49.16</td>\n",
       "      <td>48.03</td>\n",
       "      <td>47.87</td>\n",
       "      <td>43.34</td>\n",
       "      <td>42.99</td>\n",
       "      <td>42.64</td>\n",
       "      <td>...</td>\n",
       "      <td>41.62</td>\n",
       "      <td>42.16</td>\n",
       "      <td>42.26</td>\n",
       "      <td>41.65</td>\n",
       "      <td>41.76</td>\n",
       "      <td>41.72</td>\n",
       "      <td>41.48</td>\n",
       "      <td>41.42</td>\n",
       "      <td>41.53</td>\n",
       "      <td>41.55</td>\n",
       "    </tr>\n",
       "    <tr>\n",
       "      <th>2015-05-05</th>\n",
       "      <td>47.60</td>\n",
       "      <td>48.24</td>\n",
       "      <td>48.66</td>\n",
       "      <td>48.64</td>\n",
       "      <td>49.06</td>\n",
       "      <td>49.16</td>\n",
       "      <td>48.03</td>\n",
       "      <td>47.87</td>\n",
       "      <td>43.34</td>\n",
       "      <td>42.99</td>\n",
       "      <td>...</td>\n",
       "      <td>42.91</td>\n",
       "      <td>41.62</td>\n",
       "      <td>42.16</td>\n",
       "      <td>42.26</td>\n",
       "      <td>41.65</td>\n",
       "      <td>41.76</td>\n",
       "      <td>41.72</td>\n",
       "      <td>41.48</td>\n",
       "      <td>41.42</td>\n",
       "      <td>41.53</td>\n",
       "    </tr>\n",
       "    <tr>\n",
       "      <th>2015-05-06</th>\n",
       "      <td>46.28</td>\n",
       "      <td>47.60</td>\n",
       "      <td>48.24</td>\n",
       "      <td>48.66</td>\n",
       "      <td>48.64</td>\n",
       "      <td>49.06</td>\n",
       "      <td>49.16</td>\n",
       "      <td>48.03</td>\n",
       "      <td>47.87</td>\n",
       "      <td>43.34</td>\n",
       "      <td>...</td>\n",
       "      <td>42.64</td>\n",
       "      <td>42.91</td>\n",
       "      <td>41.62</td>\n",
       "      <td>42.16</td>\n",
       "      <td>42.26</td>\n",
       "      <td>41.65</td>\n",
       "      <td>41.76</td>\n",
       "      <td>41.72</td>\n",
       "      <td>41.48</td>\n",
       "      <td>41.42</td>\n",
       "    </tr>\n",
       "    <tr>\n",
       "      <th>...</th>\n",
       "      <td>...</td>\n",
       "      <td>...</td>\n",
       "      <td>...</td>\n",
       "      <td>...</td>\n",
       "      <td>...</td>\n",
       "      <td>...</td>\n",
       "      <td>...</td>\n",
       "      <td>...</td>\n",
       "      <td>...</td>\n",
       "      <td>...</td>\n",
       "      <td>...</td>\n",
       "      <td>...</td>\n",
       "      <td>...</td>\n",
       "      <td>...</td>\n",
       "      <td>...</td>\n",
       "      <td>...</td>\n",
       "      <td>...</td>\n",
       "      <td>...</td>\n",
       "      <td>...</td>\n",
       "      <td>...</td>\n",
       "      <td>...</td>\n",
       "    </tr>\n",
       "    <tr>\n",
       "      <th>2021-03-25</th>\n",
       "      <td>232.34</td>\n",
       "      <td>235.46</td>\n",
       "      <td>237.58</td>\n",
       "      <td>235.99</td>\n",
       "      <td>230.35</td>\n",
       "      <td>230.72</td>\n",
       "      <td>237.04</td>\n",
       "      <td>237.71</td>\n",
       "      <td>234.81</td>\n",
       "      <td>235.75</td>\n",
       "      <td>...</td>\n",
       "      <td>232.42</td>\n",
       "      <td>233.78</td>\n",
       "      <td>227.39</td>\n",
       "      <td>231.60</td>\n",
       "      <td>226.73</td>\n",
       "      <td>227.56</td>\n",
       "      <td>233.87</td>\n",
       "      <td>236.94</td>\n",
       "      <td>232.38</td>\n",
       "      <td>228.99</td>\n",
       "    </tr>\n",
       "    <tr>\n",
       "      <th>2021-03-26</th>\n",
       "      <td>236.48</td>\n",
       "      <td>232.34</td>\n",
       "      <td>235.46</td>\n",
       "      <td>237.58</td>\n",
       "      <td>235.99</td>\n",
       "      <td>230.35</td>\n",
       "      <td>230.72</td>\n",
       "      <td>237.04</td>\n",
       "      <td>237.71</td>\n",
       "      <td>234.81</td>\n",
       "      <td>...</td>\n",
       "      <td>237.13</td>\n",
       "      <td>232.42</td>\n",
       "      <td>233.78</td>\n",
       "      <td>227.39</td>\n",
       "      <td>231.60</td>\n",
       "      <td>226.73</td>\n",
       "      <td>227.56</td>\n",
       "      <td>233.87</td>\n",
       "      <td>236.94</td>\n",
       "      <td>232.38</td>\n",
       "    </tr>\n",
       "    <tr>\n",
       "      <th>2021-03-29</th>\n",
       "      <td>235.24</td>\n",
       "      <td>236.48</td>\n",
       "      <td>232.34</td>\n",
       "      <td>235.46</td>\n",
       "      <td>237.58</td>\n",
       "      <td>235.99</td>\n",
       "      <td>230.35</td>\n",
       "      <td>230.72</td>\n",
       "      <td>237.04</td>\n",
       "      <td>237.71</td>\n",
       "      <td>...</td>\n",
       "      <td>235.75</td>\n",
       "      <td>237.13</td>\n",
       "      <td>232.42</td>\n",
       "      <td>233.78</td>\n",
       "      <td>227.39</td>\n",
       "      <td>231.60</td>\n",
       "      <td>226.73</td>\n",
       "      <td>227.56</td>\n",
       "      <td>233.87</td>\n",
       "      <td>236.94</td>\n",
       "    </tr>\n",
       "    <tr>\n",
       "      <th>2021-03-30</th>\n",
       "      <td>231.85</td>\n",
       "      <td>235.24</td>\n",
       "      <td>236.48</td>\n",
       "      <td>232.34</td>\n",
       "      <td>235.46</td>\n",
       "      <td>237.58</td>\n",
       "      <td>235.99</td>\n",
       "      <td>230.35</td>\n",
       "      <td>230.72</td>\n",
       "      <td>237.04</td>\n",
       "      <td>...</td>\n",
       "      <td>234.81</td>\n",
       "      <td>235.75</td>\n",
       "      <td>237.13</td>\n",
       "      <td>232.42</td>\n",
       "      <td>233.78</td>\n",
       "      <td>227.39</td>\n",
       "      <td>231.60</td>\n",
       "      <td>226.73</td>\n",
       "      <td>227.56</td>\n",
       "      <td>233.87</td>\n",
       "    </tr>\n",
       "    <tr>\n",
       "      <th>2021-03-31</th>\n",
       "      <td>235.77</td>\n",
       "      <td>231.85</td>\n",
       "      <td>235.24</td>\n",
       "      <td>236.48</td>\n",
       "      <td>232.34</td>\n",
       "      <td>235.46</td>\n",
       "      <td>237.58</td>\n",
       "      <td>235.99</td>\n",
       "      <td>230.35</td>\n",
       "      <td>230.72</td>\n",
       "      <td>...</td>\n",
       "      <td>237.71</td>\n",
       "      <td>234.81</td>\n",
       "      <td>235.75</td>\n",
       "      <td>237.13</td>\n",
       "      <td>232.42</td>\n",
       "      <td>233.78</td>\n",
       "      <td>227.39</td>\n",
       "      <td>231.60</td>\n",
       "      <td>226.73</td>\n",
       "      <td>227.56</td>\n",
       "    </tr>\n",
       "  </tbody>\n",
       "</table>\n",
       "<p>1491 rows × 21 columns</p>\n",
       "</div>"
      ],
      "text/plain": [
       "             Close  close(t-1)  close(t-2)  close(t-3)  close(t-4)  \\\n",
       "Date                                                                 \n",
       "2015-04-30   48.64       49.06       49.16       48.03       47.87   \n",
       "2015-05-01   48.66       48.64       49.06       49.16       48.03   \n",
       "2015-05-04   48.24       48.66       48.64       49.06       49.16   \n",
       "2015-05-05   47.60       48.24       48.66       48.64       49.06   \n",
       "2015-05-06   46.28       47.60       48.24       48.66       48.64   \n",
       "...            ...         ...         ...         ...         ...   \n",
       "2021-03-25  232.34      235.46      237.58      235.99      230.35   \n",
       "2021-03-26  236.48      232.34      235.46      237.58      235.99   \n",
       "2021-03-29  235.24      236.48      232.34      235.46      237.58   \n",
       "2021-03-30  231.85      235.24      236.48      232.34      235.46   \n",
       "2021-03-31  235.77      231.85      235.24      236.48      232.34   \n",
       "\n",
       "            close(t-5)  close(t-6)  close(t-7)  close(t-8)  close(t-9)  ...  \\\n",
       "Date                                                                    ...   \n",
       "2015-04-30       43.34       42.99       42.64       42.91       41.62  ...   \n",
       "2015-05-01       47.87       43.34       42.99       42.64       42.91  ...   \n",
       "2015-05-04       48.03       47.87       43.34       42.99       42.64  ...   \n",
       "2015-05-05       49.16       48.03       47.87       43.34       42.99  ...   \n",
       "2015-05-06       49.06       49.16       48.03       47.87       43.34  ...   \n",
       "...                ...         ...         ...         ...         ...  ...   \n",
       "2021-03-25      230.72      237.04      237.71      234.81      235.75  ...   \n",
       "2021-03-26      230.35      230.72      237.04      237.71      234.81  ...   \n",
       "2021-03-29      235.99      230.35      230.72      237.04      237.71  ...   \n",
       "2021-03-30      237.58      235.99      230.35      230.72      237.04  ...   \n",
       "2021-03-31      235.46      237.58      235.99      230.35      230.72  ...   \n",
       "\n",
       "            close(t-11)  close(t-12)  close(t-13)  close(t-14)  close(t-15)  \\\n",
       "Date                                                                          \n",
       "2015-04-30        42.26        41.65        41.76        41.72        41.48   \n",
       "2015-05-01        42.16        42.26        41.65        41.76        41.72   \n",
       "2015-05-04        41.62        42.16        42.26        41.65        41.76   \n",
       "2015-05-05        42.91        41.62        42.16        42.26        41.65   \n",
       "2015-05-06        42.64        42.91        41.62        42.16        42.26   \n",
       "...                 ...          ...          ...          ...          ...   \n",
       "2021-03-25       232.42       233.78       227.39       231.60       226.73   \n",
       "2021-03-26       237.13       232.42       233.78       227.39       231.60   \n",
       "2021-03-29       235.75       237.13       232.42       233.78       227.39   \n",
       "2021-03-30       234.81       235.75       237.13       232.42       233.78   \n",
       "2021-03-31       237.71       234.81       235.75       237.13       232.42   \n",
       "\n",
       "            close(t-16)  close(t-17)  close(t-18)  close(t-19)  close(t-20)  \n",
       "Date                                                                         \n",
       "2015-04-30        41.42        41.53        41.55        40.29        40.72  \n",
       "2015-05-01        41.48        41.42        41.53        41.55        40.29  \n",
       "2015-05-04        41.72        41.48        41.42        41.53        41.55  \n",
       "2015-05-05        41.76        41.72        41.48        41.42        41.53  \n",
       "2015-05-06        41.65        41.76        41.72        41.48        41.42  \n",
       "...                 ...          ...          ...          ...          ...  \n",
       "2021-03-25       227.56       233.87       236.94       232.38       228.99  \n",
       "2021-03-26       226.73       227.56       233.87       236.94       232.38  \n",
       "2021-03-29       231.60       226.73       227.56       233.87       236.94  \n",
       "2021-03-30       227.39       231.60       226.73       227.56       233.87  \n",
       "2021-03-31       233.78       227.39       231.60       226.73       227.56  \n",
       "\n",
       "[1491 rows x 21 columns]"
      ]
     },
     "execution_count": 13,
     "metadata": {},
     "output_type": "execute_result"
    }
   ],
   "source": [
    "from copy import deepcopy as dc\n",
    "\n",
    "def lstm_data (data, n_steps):\n",
    "    \n",
    "    data = dc(data)\n",
    "    \n",
    "    for i in range(1, n_steps+1):\n",
    "        data[f'close(t-{i})'] = data['Close'].shift(i)\n",
    "        \n",
    "    data.dropna(inplace =True)\n",
    "    \n",
    "    return data\n",
    "\n",
    "lookback = 20\n",
    "shifted_df = lstm_data(df, lookback)\n",
    "\n",
    "shifted_df"
   ]
  },
  {
   "cell_type": "code",
   "execution_count": 14,
   "id": "39ddee1c",
   "metadata": {
    "execution": {
     "iopub.execute_input": "2024-03-05T13:50:07.970615Z",
     "iopub.status.busy": "2024-03-05T13:50:07.970113Z",
     "iopub.status.idle": "2024-03-05T13:50:07.977044Z",
     "shell.execute_reply": "2024-03-05T13:50:07.975769Z"
    },
    "papermill": {
     "duration": 0.026546,
     "end_time": "2024-03-05T13:50:07.979355",
     "exception": false,
     "start_time": "2024-03-05T13:50:07.952809",
     "status": "completed"
    },
    "tags": []
   },
   "outputs": [],
   "source": [
    "shifted_df_np = shifted_df.to_numpy()"
   ]
  },
  {
   "cell_type": "code",
   "execution_count": 15,
   "id": "5a7427fa",
   "metadata": {},
   "outputs": [
    {
     "data": {
      "text/plain": [
       "array([[ 48.64,  49.06,  49.16, ...,  41.55,  40.29,  40.72],\n",
       "       [ 48.66,  48.64,  49.06, ...,  41.53,  41.55,  40.29],\n",
       "       [ 48.24,  48.66,  48.64, ...,  41.42,  41.53,  41.55],\n",
       "       ...,\n",
       "       [235.24, 236.48, 232.34, ..., 227.56, 233.87, 236.94],\n",
       "       [231.85, 235.24, 236.48, ..., 226.73, 227.56, 233.87],\n",
       "       [235.77, 231.85, 235.24, ..., 231.6 , 226.73, 227.56]])"
      ]
     },
     "execution_count": 15,
     "metadata": {},
     "output_type": "execute_result"
    }
   ],
   "source": [
    "shifted_df_np"
   ]
  },
  {
   "cell_type": "markdown",
   "id": "c82b77d5",
   "metadata": {
    "papermill": {
     "duration": 0.015439,
     "end_time": "2024-03-05T13:50:08.010596",
     "exception": false,
     "start_time": "2024-03-05T13:50:07.995157",
     "status": "completed"
    },
    "tags": []
   },
   "source": [
    "# Scaleing Data"
   ]
  },
  {
   "cell_type": "code",
   "execution_count": 16,
   "id": "7134ed70",
   "metadata": {
    "execution": {
     "iopub.execute_input": "2024-03-05T13:50:08.046086Z",
     "iopub.status.busy": "2024-03-05T13:50:08.045568Z",
     "iopub.status.idle": "2024-03-05T13:50:08.056179Z",
     "shell.execute_reply": "2024-03-05T13:50:08.055193Z"
    },
    "papermill": {
     "duration": 0.031074,
     "end_time": "2024-03-05T13:50:08.058584",
     "exception": false,
     "start_time": "2024-03-05T13:50:08.027510",
     "status": "completed"
    },
    "tags": []
   },
   "outputs": [
    {
     "data": {
      "text/plain": [
       "array([[-0.92010561, -0.91599844, -0.91502054, ..., -0.98943869,\n",
       "        -1.        , -0.99579873],\n",
       "       [-0.91991003, -0.92010561, -0.91599844, ..., -0.98963427,\n",
       "        -0.9876893 , -1.        ],\n",
       "       [-0.92401721, -0.91991003, -0.92010561, ..., -0.99070996,\n",
       "        -0.98788471, -0.9876893 ],\n",
       "       ...,\n",
       "       [ 0.9046548 ,  0.91678075,  0.87629572, ...,  0.82955212,\n",
       "         0.8913532 ,  0.92134831],\n",
       "       [ 0.87150401,  0.9046548 ,  0.91678075, ...,  0.82143556,\n",
       "         0.829702  ,  0.8913532 ],\n",
       "       [ 0.90983767,  0.87150401,  0.9046548 , ...,  0.86905926,\n",
       "         0.82159257,  0.829702  ]])"
      ]
     },
     "execution_count": 16,
     "metadata": {},
     "output_type": "execute_result"
    }
   ],
   "source": [
    "from sklearn.preprocessing import MinMaxScaler\n",
    "\n",
    "scaler = MinMaxScaler(feature_range = (-1,1))\n",
    "shifted_df_np = scaler.fit_transform(shifted_df_np)\n",
    "shifted_df_np"
   ]
  },
  {
   "cell_type": "code",
   "execution_count": 15,
   "id": "8180fc4f",
   "metadata": {
    "execution": {
     "iopub.execute_input": "2024-03-05T13:50:08.093627Z",
     "iopub.status.busy": "2024-03-05T13:50:08.091897Z",
     "iopub.status.idle": "2024-03-05T13:50:08.100697Z",
     "shell.execute_reply": "2024-03-05T13:50:08.099471Z"
    },
    "papermill": {
     "duration": 0.02887,
     "end_time": "2024-03-05T13:50:08.103289",
     "exception": false,
     "start_time": "2024-03-05T13:50:08.074419",
     "status": "completed"
    },
    "tags": []
   },
   "outputs": [
    {
     "data": {
      "text/plain": [
       "((1491, 20), (1491,))"
      ]
     },
     "execution_count": 15,
     "metadata": {},
     "output_type": "execute_result"
    }
   ],
   "source": [
    "x = shifted_df_np[:, 1:]\n",
    "y = shifted_df_np[:, 0]\n",
    "\n",
    "x.shape, y.shape"
   ]
  },
  {
   "cell_type": "code",
   "execution_count": 16,
   "id": "5bf366d6",
   "metadata": {
    "execution": {
     "iopub.execute_input": "2024-03-05T13:50:08.137492Z",
     "iopub.status.busy": "2024-03-05T13:50:08.136976Z",
     "iopub.status.idle": "2024-03-05T13:50:08.143520Z",
     "shell.execute_reply": "2024-03-05T13:50:08.141968Z"
    },
    "papermill": {
     "duration": 0.027316,
     "end_time": "2024-03-05T13:50:08.146440",
     "exception": false,
     "start_time": "2024-03-05T13:50:08.119124",
     "status": "completed"
    },
    "tags": []
   },
   "outputs": [],
   "source": [
    "x = dc(np.flip(x, axis =1))"
   ]
  },
  {
   "cell_type": "code",
   "execution_count": 17,
   "id": "dbb1bd2d",
   "metadata": {
    "execution": {
     "iopub.execute_input": "2024-03-05T13:50:08.181162Z",
     "iopub.status.busy": "2024-03-05T13:50:08.180743Z",
     "iopub.status.idle": "2024-03-05T13:50:08.189369Z",
     "shell.execute_reply": "2024-03-05T13:50:08.187996Z"
    },
    "papermill": {
     "duration": 0.029239,
     "end_time": "2024-03-05T13:50:08.192228",
     "exception": false,
     "start_time": "2024-03-05T13:50:08.162989",
     "status": "completed"
    },
    "tags": []
   },
   "outputs": [
    {
     "data": {
      "text/plain": [
       "1043"
      ]
     },
     "execution_count": 17,
     "metadata": {},
     "output_type": "execute_result"
    }
   ],
   "source": [
    "split_index = int(len(x) * 0.70)\n",
    "split_index"
   ]
  },
  {
   "cell_type": "code",
   "execution_count": 18,
   "id": "32bfb64b",
   "metadata": {
    "execution": {
     "iopub.execute_input": "2024-03-05T13:50:08.227659Z",
     "iopub.status.busy": "2024-03-05T13:50:08.227184Z",
     "iopub.status.idle": "2024-03-05T13:50:08.237326Z",
     "shell.execute_reply": "2024-03-05T13:50:08.235720Z"
    },
    "papermill": {
     "duration": 0.031013,
     "end_time": "2024-03-05T13:50:08.240622",
     "exception": false,
     "start_time": "2024-03-05T13:50:08.209609",
     "status": "completed"
    },
    "tags": []
   },
   "outputs": [
    {
     "data": {
      "text/plain": [
       "((1043, 20), (1043,), (448, 20), (448,))"
      ]
     },
     "execution_count": 18,
     "metadata": {},
     "output_type": "execute_result"
    }
   ],
   "source": [
    "x_train = x[:split_index]\n",
    "y_train = y[:split_index]\n",
    "\n",
    "x_test = x[split_index:]\n",
    "y_test = y[split_index:]\n",
    "\n",
    "x_train.shape, y_train.shape, x_test.shape, y_test.shape"
   ]
  },
  {
   "cell_type": "markdown",
   "id": "94ee6502",
   "metadata": {
    "papermill": {
     "duration": 0.016244,
     "end_time": "2024-03-05T13:50:08.273651",
     "exception": false,
     "start_time": "2024-03-05T13:50:08.257407",
     "status": "completed"
    },
    "tags": []
   },
   "source": [
    "# 3D Dimensions for LSTM"
   ]
  },
  {
   "cell_type": "code",
   "execution_count": 19,
   "id": "4d660815",
   "metadata": {
    "execution": {
     "iopub.execute_input": "2024-03-05T13:50:08.310914Z",
     "iopub.status.busy": "2024-03-05T13:50:08.310020Z",
     "iopub.status.idle": "2024-03-05T13:50:12.867511Z",
     "shell.execute_reply": "2024-03-05T13:50:12.865879Z"
    },
    "papermill": {
     "duration": 4.580276,
     "end_time": "2024-03-05T13:50:12.870778",
     "exception": false,
     "start_time": "2024-03-05T13:50:08.290502",
     "status": "completed"
    },
    "tags": []
   },
   "outputs": [],
   "source": [
    "import torch\n",
    "import torch.nn as nn"
   ]
  },
  {
   "cell_type": "code",
   "execution_count": 20,
   "id": "ae136eb1",
   "metadata": {
    "execution": {
     "iopub.execute_input": "2024-03-05T13:50:12.907749Z",
     "iopub.status.busy": "2024-03-05T13:50:12.906994Z",
     "iopub.status.idle": "2024-03-05T13:50:12.918119Z",
     "shell.execute_reply": "2024-03-05T13:50:12.916560Z"
    },
    "papermill": {
     "duration": 0.032281,
     "end_time": "2024-03-05T13:50:12.920856",
     "exception": false,
     "start_time": "2024-03-05T13:50:12.888575",
     "status": "completed"
    },
    "tags": []
   },
   "outputs": [
    {
     "data": {
      "text/plain": [
       "((1043, 20, 1), (1043, 1), (448, 20, 1), (448, 1))"
      ]
     },
     "execution_count": 20,
     "metadata": {},
     "output_type": "execute_result"
    }
   ],
   "source": [
    "x_train = x_train.reshape((-1, lookback, 1))\n",
    "y_train = y_train.reshape((-1,1))\n",
    "\n",
    "x_test = x_test.reshape((-1, lookback, 1))\n",
    "y_test = y_test.reshape((-1,1))\n",
    "\n",
    "x_train.shape, y_train.shape, x_test.shape, y_test.shape"
   ]
  },
  {
   "cell_type": "markdown",
   "id": "b6f11869",
   "metadata": {
    "papermill": {
     "duration": 0.016501,
     "end_time": "2024-03-05T13:50:12.954163",
     "exception": false,
     "start_time": "2024-03-05T13:50:12.937662",
     "status": "completed"
    },
    "tags": []
   },
   "source": [
    "# Pytorch take Tensors"
   ]
  },
  {
   "cell_type": "code",
   "execution_count": 21,
   "id": "752f5b87",
   "metadata": {
    "execution": {
     "iopub.execute_input": "2024-03-05T13:50:12.990514Z",
     "iopub.status.busy": "2024-03-05T13:50:12.990068Z",
     "iopub.status.idle": "2024-03-05T13:50:13.043401Z",
     "shell.execute_reply": "2024-03-05T13:50:13.041848Z"
    },
    "papermill": {
     "duration": 0.075105,
     "end_time": "2024-03-05T13:50:13.046570",
     "exception": false,
     "start_time": "2024-03-05T13:50:12.971465",
     "status": "completed"
    },
    "tags": []
   },
   "outputs": [
    {
     "data": {
      "text/plain": [
       "(torch.Size([1043, 20, 1]),\n",
       " torch.Size([1043, 1]),\n",
       " torch.Size([448, 20, 1]),\n",
       " torch.Size([448, 1]))"
      ]
     },
     "execution_count": 21,
     "metadata": {},
     "output_type": "execute_result"
    }
   ],
   "source": [
    "x_train = torch.tensor(x_train).float()\n",
    "y_train = torch.tensor(y_train).float()\n",
    "x_test = torch.tensor(x_test).float()\n",
    "y_test = torch.tensor(y_test).float()\n",
    "x_train.shape, y_train.shape, x_test.shape, y_test.shape"
   ]
  },
  {
   "cell_type": "markdown",
   "id": "bf5a3f93",
   "metadata": {
    "papermill": {
     "duration": 0.016254,
     "end_time": "2024-03-05T13:50:13.079764",
     "exception": false,
     "start_time": "2024-03-05T13:50:13.063510",
     "status": "completed"
    },
    "tags": []
   },
   "source": [
    "# Converting tensors to dataset then dataloader"
   ]
  },
  {
   "cell_type": "code",
   "execution_count": 22,
   "id": "ba12d469",
   "metadata": {
    "execution": {
     "iopub.execute_input": "2024-03-05T13:50:13.115508Z",
     "iopub.status.busy": "2024-03-05T13:50:13.114997Z",
     "iopub.status.idle": "2024-03-05T13:50:13.124007Z",
     "shell.execute_reply": "2024-03-05T13:50:13.122487Z"
    },
    "papermill": {
     "duration": 0.029982,
     "end_time": "2024-03-05T13:50:13.126591",
     "exception": false,
     "start_time": "2024-03-05T13:50:13.096609",
     "status": "completed"
    },
    "tags": []
   },
   "outputs": [],
   "source": [
    "from torch.utils.data import Dataset, DataLoader\n",
    "\n",
    "class TimeseriesData(Dataset):\n",
    "    def __init__(self, x, y):\n",
    "        self.x = x\n",
    "        self.y = y\n",
    "    \n",
    "    def __len__(self):\n",
    "        return len(self.x)\n",
    "    \n",
    "    def __getitem__(self, i):\n",
    "        return self.x[i], self.y[i]\n",
    "\n",
    "\n",
    "train_data = TimeseriesData(x_train, y_train)\n",
    "test_data = TimeseriesData(x_test, y_test)"
   ]
  },
  {
   "cell_type": "code",
   "execution_count": 23,
   "id": "c2658e88",
   "metadata": {
    "execution": {
     "iopub.execute_input": "2024-03-05T13:50:13.164630Z",
     "iopub.status.busy": "2024-03-05T13:50:13.162573Z",
     "iopub.status.idle": "2024-03-05T13:50:13.170743Z",
     "shell.execute_reply": "2024-03-05T13:50:13.169667Z"
    },
    "papermill": {
     "duration": 0.029604,
     "end_time": "2024-03-05T13:50:13.173405",
     "exception": false,
     "start_time": "2024-03-05T13:50:13.143801",
     "status": "completed"
    },
    "tags": []
   },
   "outputs": [],
   "source": [
    "batch_size = 16\n",
    "\n",
    "train_loader = DataLoader(train_data, batch_size = batch_size, shuffle = True)\n",
    "test_loader = DataLoader(test_data, batch_size = batch_size, shuffle = False)"
   ]
  },
  {
   "cell_type": "code",
   "execution_count": 24,
   "id": "4fb21334",
   "metadata": {
    "execution": {
     "iopub.execute_input": "2024-03-05T13:50:13.210840Z",
     "iopub.status.busy": "2024-03-05T13:50:13.209161Z",
     "iopub.status.idle": "2024-03-05T13:50:13.276874Z",
     "shell.execute_reply": "2024-03-05T13:50:13.275318Z"
    },
    "papermill": {
     "duration": 0.089595,
     "end_time": "2024-03-05T13:50:13.280071",
     "exception": false,
     "start_time": "2024-03-05T13:50:13.190476",
     "status": "completed"
    },
    "tags": []
   },
   "outputs": [
    {
     "name": "stdout",
     "output_type": "stream",
     "text": [
      "torch.Size([16, 20, 1]) torch.Size([16, 1])\n"
     ]
    }
   ],
   "source": [
    "device = torch.device(\"cuda\" if torch.cuda.is_available() else \"cpu\")\n",
    "\n",
    "for _, batch in enumerate(train_loader):\n",
    "    x_batch, y_batch = batch[0].to(device), batch[1].to(device)\n",
    "    print(x_batch.shape, y_batch.shape)\n",
    "    break"
   ]
  },
  {
   "cell_type": "code",
   "execution_count": 25,
   "id": "90911e3b",
   "metadata": {
    "execution": {
     "iopub.execute_input": "2024-03-05T13:50:13.316967Z",
     "iopub.status.busy": "2024-03-05T13:50:13.315372Z",
     "iopub.status.idle": "2024-03-05T13:50:13.341160Z",
     "shell.execute_reply": "2024-03-05T13:50:13.339432Z"
    },
    "papermill": {
     "duration": 0.047409,
     "end_time": "2024-03-05T13:50:13.344368",
     "exception": false,
     "start_time": "2024-03-05T13:50:13.296959",
     "status": "completed"
    },
    "tags": []
   },
   "outputs": [
    {
     "data": {
      "text/plain": [
       "LSTM(\n",
       "  (lstm): LSTM(1, 4, batch_first=True)\n",
       "  (fc): Linear(in_features=4, out_features=1, bias=True)\n",
       ")"
      ]
     },
     "execution_count": 25,
     "metadata": {},
     "output_type": "execute_result"
    }
   ],
   "source": [
    "class LSTM(nn.Module):\n",
    "    def __init__(self, input_size, hidden_size, num_stacked_layers):\n",
    "        super().__init__()\n",
    "        self.hidden_size = hidden_size\n",
    "        self.num_stacked_layers = num_stacked_layers\n",
    "\n",
    "        self.lstm = nn.LSTM(input_size, hidden_size, num_stacked_layers, \n",
    "                            batch_first=True)\n",
    "        \n",
    "        self.fc = nn.Linear(hidden_size, 1)\n",
    "\n",
    "    def forward(self, x):\n",
    "        batch_size = x.size(0)\n",
    "        h0 = torch.zeros(self.num_stacked_layers, batch_size, self.hidden_size).to(device)\n",
    "        c0 = torch.zeros(self.num_stacked_layers, batch_size, self.hidden_size).to(device)\n",
    "        \n",
    "        out, _ = self.lstm(x, (h0, c0))\n",
    "        out = self.fc(out[:, -1, :])\n",
    "        return out\n",
    "\n",
    "model = LSTM(1, 4, 1)\n",
    "model.to(device)\n",
    "model"
   ]
  },
  {
   "cell_type": "code",
   "execution_count": 26,
   "id": "66d57980",
   "metadata": {
    "execution": {
     "iopub.execute_input": "2024-03-05T13:50:13.381201Z",
     "iopub.status.busy": "2024-03-05T13:50:13.380769Z",
     "iopub.status.idle": "2024-03-05T13:50:13.390346Z",
     "shell.execute_reply": "2024-03-05T13:50:13.388800Z"
    },
    "papermill": {
     "duration": 0.031988,
     "end_time": "2024-03-05T13:50:13.393306",
     "exception": false,
     "start_time": "2024-03-05T13:50:13.361318",
     "status": "completed"
    },
    "tags": []
   },
   "outputs": [],
   "source": [
    "def train_one_epoch():\n",
    "    model.train(True)\n",
    "    print(f'Epoch: {epoch + 1}')\n",
    "    running_loss = 0.0\n",
    "    \n",
    "    for batch_index, batch in enumerate(train_loader):\n",
    "        x_batch, y_batch = batch[0].to(device), batch[1].to(device)\n",
    "        \n",
    "        output = model(x_batch)\n",
    "        loss = loss_function(output, y_batch)\n",
    "        running_loss += loss.item()\n",
    "        \n",
    "        optimizer.zero_grad()\n",
    "        loss.backward()\n",
    "        optimizer.step()\n",
    "\n",
    "        if batch_index % 100 == 99:  # print every 100 batches\n",
    "            avg_loss_across_batches = running_loss / 100\n",
    "            print('Batch {0}, Loss: {1:.3f}'.format(batch_index+1,\n",
    "                                                    avg_loss_across_batches))\n",
    "            running_loss = 0.0\n",
    "    print()"
   ]
  },
  {
   "cell_type": "code",
   "execution_count": 27,
   "id": "719adf9f",
   "metadata": {
    "execution": {
     "iopub.execute_input": "2024-03-05T13:50:13.430014Z",
     "iopub.status.busy": "2024-03-05T13:50:13.429599Z",
     "iopub.status.idle": "2024-03-05T13:50:13.438318Z",
     "shell.execute_reply": "2024-03-05T13:50:13.436622Z"
    },
    "papermill": {
     "duration": 0.03055,
     "end_time": "2024-03-05T13:50:13.440990",
     "exception": false,
     "start_time": "2024-03-05T13:50:13.410440",
     "status": "completed"
    },
    "tags": []
   },
   "outputs": [],
   "source": [
    "def validate_one_epoch():\n",
    "    model.train(False)\n",
    "    running_loss = 0.0\n",
    "    \n",
    "    for batch_index, batch in enumerate(test_loader):\n",
    "        x_batch, y_batch = batch[0].to(device), batch[1].to(device)\n",
    "        \n",
    "        with torch.no_grad():\n",
    "            output = model(x_batch)\n",
    "            loss = loss_function(output, y_batch)\n",
    "            running_loss += loss.item()\n",
    "\n",
    "    avg_loss_across_batches = running_loss / len(test_loader)\n",
    "    \n",
    "    print('Val Loss: {0:.3f}'.format(avg_loss_across_batches))\n",
    "    print('***************************************************')\n",
    "    print()"
   ]
  },
  {
   "cell_type": "code",
   "execution_count": 28,
   "id": "79fe2216",
   "metadata": {
    "execution": {
     "iopub.execute_input": "2024-03-05T13:50:13.477076Z",
     "iopub.status.busy": "2024-03-05T13:50:13.476500Z",
     "iopub.status.idle": "2024-03-05T13:50:19.452069Z",
     "shell.execute_reply": "2024-03-05T13:50:19.450892Z"
    },
    "papermill": {
     "duration": 5.9971,
     "end_time": "2024-03-05T13:50:19.454984",
     "exception": false,
     "start_time": "2024-03-05T13:50:13.457884",
     "status": "completed"
    },
    "tags": []
   },
   "outputs": [
    {
     "name": "stdout",
     "output_type": "stream",
     "text": [
      "Epoch: 1\n",
      "\n",
      "Val Loss: 0.324\n",
      "***************************************************\n",
      "\n",
      "Epoch: 2\n",
      "\n",
      "Val Loss: 0.479\n",
      "***************************************************\n",
      "\n",
      "Epoch: 3\n",
      "\n",
      "Val Loss: 0.631\n",
      "***************************************************\n",
      "\n",
      "Epoch: 4\n",
      "\n",
      "Val Loss: 0.730\n",
      "***************************************************\n",
      "\n",
      "Epoch: 5\n",
      "\n",
      "Val Loss: 0.752\n",
      "***************************************************\n",
      "\n",
      "Epoch: 6\n",
      "\n",
      "Val Loss: 0.706\n",
      "***************************************************\n",
      "\n",
      "Epoch: 7\n",
      "\n",
      "Val Loss: 0.626\n",
      "***************************************************\n",
      "\n",
      "Epoch: 8\n",
      "\n",
      "Val Loss: 0.518\n",
      "***************************************************\n",
      "\n",
      "Epoch: 9\n",
      "\n",
      "Val Loss: 0.417\n",
      "***************************************************\n",
      "\n",
      "Epoch: 10\n",
      "\n",
      "Val Loss: 0.361\n",
      "***************************************************\n",
      "\n"
     ]
    }
   ],
   "source": [
    "learning_rate = 0.001\n",
    "num_epochs = 10\n",
    "loss_function = nn.MSELoss()\n",
    "optimizer = torch.optim.Adam(model.parameters(), lr=learning_rate)\n",
    "\n",
    "for epoch in range(num_epochs):\n",
    "    train_one_epoch()\n",
    "    validate_one_epoch()"
   ]
  },
  {
   "cell_type": "code",
   "execution_count": 29,
   "id": "6b1bdf10",
   "metadata": {
    "execution": {
     "iopub.execute_input": "2024-03-05T13:50:19.501622Z",
     "iopub.status.busy": "2024-03-05T13:50:19.500819Z",
     "iopub.status.idle": "2024-03-05T13:50:20.147501Z",
     "shell.execute_reply": "2024-03-05T13:50:20.145977Z"
    },
    "papermill": {
     "duration": 0.674757,
     "end_time": "2024-03-05T13:50:20.151493",
     "exception": false,
     "start_time": "2024-03-05T13:50:19.476736",
     "status": "completed"
    },
    "tags": []
   },
   "outputs": [
    {
     "data": {
      "text/plain": [
       "<matplotlib.legend.Legend at 0x7adccf1ab400>"
      ]
     },
     "execution_count": 29,
     "metadata": {},
     "output_type": "execute_result"
    },
    {
     "data": {
      "image/png": "[encoded data removed]",
      "text/plain": [
       "<Figure size 1600x800 with 1 Axes>"
      ]
     },
     "metadata": {},
     "output_type": "display_data"
    }
   ],
   "source": [
    "with torch.no_grad():\n",
    "    predicted = model(x_train.to(device)).to('cpu').numpy()\n",
    "\n",
    "plt.plot(y_train, label='Actual Close')\n",
    "plt.plot(predicted, label='Predicted Close')\n",
    "plt.xlabel('Day')\n",
    "plt.ylabel('Close')\n",
    "plt.legend()"
   ]
  },
  {
   "cell_type": "code",
   "execution_count": 30,
   "id": "fa9e8d4f",
   "metadata": {
    "execution": {
     "iopub.execute_input": "2024-03-05T13:50:20.196621Z",
     "iopub.status.busy": "2024-03-05T13:50:20.196110Z",
     "iopub.status.idle": "2024-03-05T13:50:20.207077Z",
     "shell.execute_reply": "2024-03-05T13:50:20.205837Z"
    },
    "papermill": {
     "duration": 0.035013,
     "end_time": "2024-03-05T13:50:20.209909",
     "exception": false,
     "start_time": "2024-03-05T13:50:20.174896",
     "status": "completed"
    },
    "tags": []
   },
   "outputs": [
    {
     "data": {
      "text/plain": [
       "array([ 55.5106938 ,  55.58331776,  55.656728  , ..., 117.98622677,\n",
       "       118.31327078, 118.56671866])"
      ]
     },
     "execution_count": 30,
     "metadata": {},
     "output_type": "execute_result"
    }
   ],
   "source": [
    "train_predictions = predicted.flatten()\n",
    "\n",
    "dummies = np.zeros((x_train.shape[0], lookback+1))\n",
    "dummies[:, 0] = train_predictions\n",
    "dummies = scaler.inverse_transform(dummies)\n",
    "\n",
    "train_predictions = dc(dummies[:, 0])\n",
    "train_predictions"
   ]
  },
  {
   "cell_type": "code",
   "execution_count": 31,
   "id": "ab859cb0",
   "metadata": {
    "execution": {
     "iopub.execute_input": "2024-03-05T13:50:20.253030Z",
     "iopub.status.busy": "2024-03-05T13:50:20.252085Z",
     "iopub.status.idle": "2024-03-05T13:50:20.262975Z",
     "shell.execute_reply": "2024-03-05T13:50:20.261670Z"
    },
    "papermill": {
     "duration": 0.03603,
     "end_time": "2024-03-05T13:50:20.265679",
     "exception": false,
     "start_time": "2024-03-05T13:50:20.229649",
     "status": "completed"
    },
    "tags": []
   },
   "outputs": [
    {
     "data": {
      "text/plain": [
       "array([ 48.63999765,  48.660002  ,  48.24000206, ..., 135.16000031,\n",
       "       135.68999981, 136.95000003])"
      ]
     },
     "execution_count": 31,
     "metadata": {},
     "output_type": "execute_result"
    }
   ],
   "source": [
    "dummies = np.zeros((x_train.shape[0], lookback+1))\n",
    "dummies[:, 0] = y_train.flatten()\n",
    "dummies = scaler.inverse_transform(dummies)\n",
    "\n",
    "new_y_train = dc(dummies[:, 0])\n",
    "new_y_train"
   ]
  },
  {
   "cell_type": "code",
   "execution_count": 32,
   "id": "438c4d95",
   "metadata": {
    "execution": {
     "iopub.execute_input": "2024-03-05T13:50:20.308828Z",
     "iopub.status.busy": "2024-03-05T13:50:20.308103Z",
     "iopub.status.idle": "2024-03-05T13:50:20.773103Z",
     "shell.execute_reply": "2024-03-05T13:50:20.771887Z"
    },
    "papermill": {
     "duration": 0.491023,
     "end_time": "2024-03-05T13:50:20.776939",
     "exception": false,
     "start_time": "2024-03-05T13:50:20.285916",
     "status": "completed"
    },
    "tags": []
   },
   "outputs": [
    {
     "data": {
      "image/png": "[encoded data removed]",
      "text/plain": [
       "<Figure size 1600x800 with 1 Axes>"
      ]
     },
     "metadata": {},
     "output_type": "display_data"
    }
   ],
   "source": [
    "plt.plot(new_y_train, label='Actual Close')\n",
    "plt.plot(train_predictions, label='Predicted Close')\n",
    "plt.xlabel('Day')\n",
    "plt.ylabel('Close')\n",
    "plt.legend()\n",
    "plt.show()\n"
   ]
  },
  {
   "cell_type": "code",
   "execution_count": null,
   "id": "f717e552",
   "metadata": {
    "papermill": {
     "duration": 0.114686,
     "end_time": "2024-03-05T13:50:20.912993",
     "exception": false,
     "start_time": "2024-03-05T13:50:20.798307",
     "status": "completed"
    },
    "tags": []
   },
   "outputs": [],
   "source": []
  }
 ],
 "metadata": {
  "kaggle": {
   "accelerator": "none",
   "dataSources": [
    {
     "datasetId": 1409311,
     "sourceId": 2334627,
     "sourceType": "datasetVersion"
    }
   ],
   "dockerImageVersionId": 30664,
   "isGpuEnabled": false,
   "isInternetEnabled": true,
   "language": "python",
   "sourceType": "notebook"
  },
  "kernelspec": {
   "display_name": "Python 3",
   "language": "python",
   "name": "python3"
  },
  "language_info": {
   "codemirror_mode": {
    "name": "ipython",
    "version": 3
   },
   "file_extension": ".py",
   "mimetype": "text/x-python",
   "name": "python",
   "nbconvert_exporter": "python",
   "pygments_lexer": "ipython3",
   "version": "3.11.5"
  },
  "papermill": {
   "default_parameters": {},
   "duration": 24.371041,
   "end_time": "2024-03-05T13:50:23.529901",
   "environment_variables": {},
   "exception": null,
   "input_path": "__notebook__.ipynb",
   "output_path": "__notebook__.ipynb",
   "parameters": {},
   "start_time": "2024-03-05T13:49:59.158860",
   "version": "2.5.0"
  }
 },
 "nbformat": 4,
 "nbformat_minor": 5
}
